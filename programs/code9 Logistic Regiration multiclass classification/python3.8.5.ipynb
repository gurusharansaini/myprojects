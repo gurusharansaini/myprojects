{
 "cells": [
  {
   "cell_type": "code",
   "execution_count": 1,
   "metadata": {},
   "outputs": [],
   "source": [
    "%matplotlib inline\n",
    "import matplotlib.pyplot as plt\n",
    "from sklearn.datasets import load_digits\n",
    "digits=load_digits()"
   ]
  },
  {
   "cell_type": "code",
   "execution_count": 2,
   "metadata": {},
   "outputs": [
    {
     "data": {
      "text/plain": [
       "['DESCR', 'data', 'feature_names', 'frame', 'images', 'target', 'target_names']"
      ]
     },
     "execution_count": 2,
     "metadata": {},
     "output_type": "execute_result"
    }
   ],
   "source": [
    "dir(digits)"
   ]
  },
  {
   "cell_type": "code",
   "execution_count": 4,
   "metadata": {},
   "outputs": [
    {
     "data": {
      "text/plain": [
       "array([[ 0.,  0.,  5., 13.,  9.,  1.,  0.,  0.],\n",
       "       [ 0.,  0., 13., 15., 10., 15.,  5.,  0.],\n",
       "       [ 0.,  3., 15.,  2.,  0., 11.,  8.,  0.],\n",
       "       [ 0.,  4., 12.,  0.,  0.,  8.,  8.,  0.],\n",
       "       [ 0.,  5.,  8.,  0.,  0.,  9.,  8.,  0.],\n",
       "       [ 0.,  4., 11.,  0.,  1., 12.,  7.,  0.],\n",
       "       [ 0.,  2., 14.,  5., 10., 12.,  0.,  0.],\n",
       "       [ 0.,  0.,  6., 13., 10.,  0.,  0.,  0.]])"
      ]
     },
     "execution_count": 4,
     "metadata": {},
     "output_type": "execute_result"
    }
   ],
   "source": [
    "digits.images[0]"
   ]
  },
  {
   "cell_type": "code",
   "execution_count": 9,
   "metadata": {},
   "outputs": [
    {
     "data": {
      "text/plain": [
       "<Figure size 432x288 with 0 Axes>"
      ]
     },
     "metadata": {},
     "output_type": "display_data"
    },
    {
     "data": {
      "image/png": "[encoded data removed]",
      "text/plain": [
       "<Figure size 288x288 with 1 Axes>"
      ]
     },
     "metadata": {
      "needs_background": "light"
     },
     "output_type": "display_data"
    },
    {
     "data": {
      "image/png": "[encoded data removed]",
      "text/plain": [
       "<Figure size 288x288 with 1 Axes>"
      ]
     },
     "metadata": {
      "needs_background": "light"
     },
     "output_type": "display_data"
    },
    {
     "data": {
      "image/png": "[encoded data removed]",
      "text/plain": [
       "<Figure size 288x288 with 1 Axes>"
      ]
     },
     "metadata": {
      "needs_background": "light"
     },
     "output_type": "display_data"
    },
    {
     "data": {
      "image/png": "[encoded data removed]",
      "text/plain": [
       "<Figure size 288x288 with 1 Axes>"
      ]
     },
     "metadata": {
      "needs_background": "light"
     },
     "output_type": "display_data"
    },
    {
     "data": {
      "image/png": "[encoded data removed]",
      "text/plain": [
       "<Figure size 288x288 with 1 Axes>"
      ]
     },
     "metadata": {
      "needs_background": "light"
     },
     "output_type": "display_data"
    }
   ],
   "source": [
    "plt.gray()\n",
    "for i in range(5):\n",
    "    plt.matshow(digits.images[i])"
   ]
  },
  {
   "cell_type": "code",
   "execution_count": 10,
   "metadata": {},
   "outputs": [
    {
     "data": {
      "text/plain": [
       "array([0, 1, 2, 3, 4])"
      ]
     },
     "execution_count": 10,
     "metadata": {},
     "output_type": "execute_result"
    }
   ],
   "source": [
    "digits.target[:5]"
   ]
  },
  {
   "cell_type": "code",
   "execution_count": 11,
   "metadata": {},
   "outputs": [
    {
     "data": {
      "text/plain": [
       "array([[ 0.,  0.,  5., ...,  0.,  0.,  0.],\n",
       "       [ 0.,  0.,  0., ..., 10.,  0.,  0.],\n",
       "       [ 0.,  0.,  0., ..., 16.,  9.,  0.],\n",
       "       ...,\n",
       "       [ 0.,  0.,  1., ...,  6.,  0.,  0.],\n",
       "       [ 0.,  0.,  2., ..., 12.,  0.,  0.],\n",
       "       [ 0.,  0., 10., ..., 12.,  1.,  0.]])"
      ]
     },
     "execution_count": 11,
     "metadata": {},
     "output_type": "execute_result"
    }
   ],
   "source": [
    "digits.data\n"
   ]
  },
  {
   "cell_type": "code",
   "execution_count": 12,
   "metadata": {},
   "outputs": [],
   "source": [
    "from sklearn.linear_model import LinearRegression\n",
    "mode=LinearRegression()\n"
   ]
  },
  {
   "cell_type": "code",
   "execution_count": 13,
   "metadata": {},
   "outputs": [],
   "source": [
    "from sklearn.model_selection import train_test_split\n",
    "x_train,x_test,y_train,y_test=train_test_split(digits.data,digits.target,test_size=0.2)"
   ]
  },
  {
   "cell_type": "code",
   "execution_count": 14,
   "metadata": {},
   "outputs": [
    {
     "data": {
      "text/plain": [
       "1437"
      ]
     },
     "execution_count": 14,
     "metadata": {},
     "output_type": "execute_result"
    }
   ],
   "source": [
    "len(x_train)"
   ]
  },
  {
   "cell_type": "code",
   "execution_count": 15,
   "metadata": {},
   "outputs": [
    {
     "data": {
      "text/plain": [
       "360"
      ]
     },
     "execution_count": 15,
     "metadata": {},
     "output_type": "execute_result"
    }
   ],
   "source": [
    "len(x_test)"
   ]
  },
  {
   "cell_type": "code",
   "execution_count": 16,
   "metadata": {},
   "outputs": [
    {
     "data": {
      "text/plain": [
       "1437"
      ]
     },
     "execution_count": 16,
     "metadata": {},
     "output_type": "execute_result"
    }
   ],
   "source": [
    "len(y_train)"
   ]
  },
  {
   "cell_type": "code",
   "execution_count": 17,
   "metadata": {},
   "outputs": [
    {
     "data": {
      "text/plain": [
       "360"
      ]
     },
     "execution_count": 17,
     "metadata": {},
     "output_type": "execute_result"
    }
   ],
   "source": [
    "len(y_test)"
   ]
  },
  {
   "cell_type": "code",
   "execution_count": 20,
   "metadata": {},
   "outputs": [
    {
     "data": {
      "text/plain": [
       "LinearRegression()"
      ]
     },
     "execution_count": 20,
     "metadata": {},
     "output_type": "execute_result"
    }
   ],
   "source": [
    "mode.fit(x_train,y_train)"
   ]
  },
  {
   "cell_type": "code",
   "execution_count": 21,
   "metadata": {},
   "outputs": [
    {
     "data": {
      "text/plain": [
       "array([ 3.13115007,  6.33041562, -0.40861126,  1.92929778,  7.41550508,\n",
       "        4.65488228,  8.9987985 ,  3.90947908,  6.76479807,  1.04631196,\n",
       "        7.51525762,  2.68691463,  3.91694558,  2.11650576,  3.10078819,\n",
       "        1.60692699,  5.93843368,  7.0665035 ,  1.7505391 ,  3.04697681,\n",
       "        5.24934704,  7.10756974,  0.65721077,  4.69706317,  6.29784276,\n",
       "        7.76937514,  1.71020013,  6.68836567,  2.48647104,  7.58518752,\n",
       "        6.48491222,  1.94433862,  3.63433713,  0.30985552,  1.79820058,\n",
       "        6.95072633,  7.04212854,  6.27695493,  0.78528678,  5.67107819,\n",
       "        4.06070772,  2.19074909,  3.62285321,  1.21222455,  6.08866543,\n",
       "        1.75364893,  4.87222629,  4.27101337,  0.25512561,  4.09052434,\n",
       "        2.79628676, -0.44519011,  4.61070393,  8.06383022,  6.59203718,\n",
       "       -0.43276672,  5.4937653 ,  4.19025573,  3.19375146,  7.83362427,\n",
       "        5.14582887,  1.5614596 ,  6.86635462,  2.99917954,  3.18677299,\n",
       "        6.79993453,  2.28277572,  3.94151679,  4.57236847,  7.13133841,\n",
       "        6.90483629,  2.66238219,  1.50537627,  6.71392724,  6.53651259,\n",
       "        1.8276879 ,  5.10633136,  5.37075366,  4.07229224,  4.1769056 ,\n",
       "        4.71712852,  3.47229367,  5.28438416,  6.97559298,  0.92961501,\n",
       "        2.3489592 ,  5.00033059,  0.07309373,  4.57225865,  5.60271977,\n",
       "        6.04776336,  2.00586811,  3.35134785,  2.76244209,  1.91563889,\n",
       "        4.89640283,  6.34278455,  3.83135489,  1.90604392,  3.15139458,\n",
       "        4.11129389,  6.92720941,  3.31019692,  3.79075374, 10.23083158,\n",
       "        2.05323508,  6.59773047,  2.89311678,  3.38541549,  7.0023712 ,\n",
       "        7.79326186,  4.74772008,  6.72078023,  5.14658273,  8.70903493,\n",
       "        0.23904719,  7.61833901,  1.46841541,  0.44661879,  1.68404967,\n",
       "        8.93470114,  8.52184981,  3.6274776 ,  5.2966762 ,  5.54643282,\n",
       "        4.62202722,  3.10641659,  1.87766578,  4.66949271,  6.25994516,\n",
       "        6.50421582,  4.75972166,  4.89855328,  6.67507851,  4.14483355,\n",
       "        2.08813671,  6.71853432,  2.92017533,  5.58471509,  3.43453728,\n",
       "        0.835604  ,  3.59990961,  6.23054901,  8.85231908,  7.08617153,\n",
       "        5.24485848,  1.05652984,  7.71726596,  2.38841812,  3.44839514,\n",
       "       10.46976702,  5.19548554,  6.88684844,  8.4900246 ,  6.48296177,\n",
       "        7.4787585 ,  3.99033449,  4.02707891,  4.12922804,  9.16972417,\n",
       "        0.48339633,  4.76560738,  4.08137155,  3.53011433,  2.86254499,\n",
       "        1.9136724 ,  2.60717191,  5.27738216,  3.49982236,  2.67404991,\n",
       "        3.71578116,  0.69429629,  3.14359844,  3.58430086,  2.24609722,\n",
       "        5.42234297,  0.74474573,  4.70337035,  3.53969569,  1.18324109,\n",
       "        5.74358118,  3.12620297,  5.9259927 ,  2.7209689 ,  5.08341753,\n",
       "        6.24333254,  5.09639873,  1.13213693,  5.98620414,  8.298754  ,\n",
       "        3.78480044,  5.74131709,  5.17175013,  6.82466458,  4.13584491,\n",
       "        7.01429381,  0.74923388,  2.90225513,  6.6859453 ,  1.70225982,\n",
       "        3.32954624,  2.6243949 ,  4.82968637,  1.77848913,  4.13665779,\n",
       "        5.11629458,  0.82493359,  5.7860479 ,  3.15451552,  3.28312609,\n",
       "        0.37848349,  7.75777928,  1.47883567,  2.83923615,  3.94212043,\n",
       "        6.5741816 ,  1.56163105,  1.96235275,  3.88027921,  2.82475783,\n",
       "        6.75579515,  1.51440455,  1.46295532,  4.10263927,  2.54424413,\n",
       "       -0.94264113,  1.82204785,  6.07696088,  0.96405623,  5.48112805,\n",
       "        8.478889  ,  3.50245023,  1.18105249,  7.42624465,  4.43659914,\n",
       "        2.35169777,  4.19778901,  6.80912454,  3.75016546,  0.64614172,\n",
       "        4.74872322,  1.67616193,  3.80392216,  5.52582335,  5.25543385,\n",
       "        8.89247307, -2.12227614,  3.90436223,  6.73701865,  1.33257952,\n",
       "        6.384843  ,  3.94777025,  5.06021615,  6.70788385,  6.1925395 ,\n",
       "        5.97379723,  3.70918402,  1.81746974,  8.67770483,  4.51916605,\n",
       "        3.47529392,  5.59472768,  1.4949964 ,  1.85437628,  6.14460028,\n",
       "        5.38910004,  3.21975223,  3.26362054,  4.61654547,  4.65572721,\n",
       "        1.7784279 ,  0.15297968,  5.70636099,  2.45162152,  3.19370634,\n",
       "        7.99313146,  1.79108657,  5.03743876,  4.51772619,  2.09092825,\n",
       "        8.47182822,  6.98572716,  5.33710686,  2.07124733,  4.87543386,\n",
       "        3.09130855,  5.79180859,  4.80298829,  5.65897427,  4.25579255,\n",
       "        8.01399483,  6.37175206,  1.87662962,  6.70807906,  4.87203495,\n",
       "        7.39509066,  8.49352012,  0.73827206,  2.2027481 ,  4.80819509,\n",
       "        6.2671922 ,  0.82688544,  6.25421789,  5.84281661,  4.4821795 ,\n",
       "        5.01390786,  2.11151128,  2.4454667 ,  8.9487858 ,  2.41180982,\n",
       "        3.87017934,  4.32973642,  1.30302569,  3.20816184,  4.63523674,\n",
       "        4.90649747,  3.67525414,  6.52762175,  3.65925155,  2.92215959,\n",
       "        4.11476774,  0.86181403,  7.6006886 ,  7.84919423,  3.60086162,\n",
       "        5.95204041,  3.37349275,  2.52370309,  1.93536951,  5.07819801,\n",
       "        7.70779776,  6.0025334 ,  3.83795889,  7.27319397,  5.33879817,\n",
       "        3.73123113,  6.73233508,  3.84941783,  2.0701669 ,  6.09181379,\n",
       "        1.76663187,  6.87545395,  5.31955307,  8.66067489,  2.69855815,\n",
       "        1.92148493, -0.69311732,  4.29562832,  5.56154877,  2.38215398,\n",
       "        2.28241833,  5.4102261 ,  0.42482927,  2.68181523,  6.48785428,\n",
       "        3.67468996,  3.55640292,  6.97117324,  5.3338754 ,  1.88222029])"
      ]
     },
     "execution_count": 21,
     "metadata": {},
     "output_type": "execute_result"
    }
   ],
   "source": [
    "mode.predict(x_test)"
   ]
  },
  {
   "cell_type": "code",
   "execution_count": 22,
   "metadata": {},
   "outputs": [
    {
     "data": {
      "text/plain": [
       "array([4, 9, 0, 2, 8, 5, 8, 6, 7, 2, 9, 4, 1, 0, 2, 3, 9, 7, 0, 3, 5, 9,\n",
       "       4, 6, 6, 7, 4, 7, 2, 9, 8, 2, 6, 3, 1, 6, 7, 6, 1, 5, 3, 2, 5, 2,\n",
       "       8, 0, 4, 5, 2, 6, 3, 0, 5, 8, 6, 2, 5, 5, 3, 9, 7, 0, 7, 1, 2, 7,\n",
       "       0, 4, 6, 4, 9, 8, 2, 9, 9, 1, 6, 8, 6, 4, 8, 1, 6, 6, 0, 0, 3, 0,\n",
       "       3, 5, 9, 0, 1, 2, 6, 6, 9, 0, 6, 1, 4, 7, 4, 4, 8, 1, 8, 4, 4, 7,\n",
       "       7, 7, 7, 6, 7, 2, 7, 2, 2, 2, 8, 9, 1, 5, 7, 8, 6, 1, 8, 7, 9, 5,\n",
       "       8, 9, 3, 4, 5, 4, 4, 2, 3, 5, 9, 9, 7, 7, 1, 5, 1, 3, 8, 5, 9, 5,\n",
       "       7, 7, 3, 5, 4, 9, 2, 4, 1, 1, 3, 2, 4, 8, 1, 2, 5, 2, 8, 7, 4, 5,\n",
       "       1, 6, 1, 2, 7, 0, 7, 1, 6, 5, 3, 0, 8, 6, 4, 7, 7, 8, 5, 7, 1, 4,\n",
       "       7, 0, 4, 5, 5, 2, 5, 5, 2, 6, 3, 6, 0, 9, 2, 1, 1, 9, 2, 2, 8, 4,\n",
       "       7, 2, 3, 5, 1, 2, 3, 7, 1, 1, 4, 3, 0, 7, 1, 0, 5, 6, 0, 0, 7, 0,\n",
       "       1, 5, 5, 8, 0, 4, 8, 1, 7, 6, 6, 9, 7, 6, 4, 0, 9, 3, 2, 5, 2, 1,\n",
       "       7, 5, 1, 1, 6, 4, 2, 2, 2, 4, 1, 7, 1, 3, 5, 2, 5, 9, 4, 0, 7, 0,\n",
       "       5, 5, 4, 3, 8, 6, 0, 8, 1, 7, 8, 2, 2, 5, 8, 0, 7, 6, 6, 1, 1, 6,\n",
       "       9, 1, 9, 6, 2, 1, 1, 6, 3, 9, 5, 0, 9, 1, 5, 9, 3, 7, 4, 2, 3, 8,\n",
       "       7, 5, 3, 9, 6, 4, 7, 6, 2, 8, 0, 8, 8, 8, 0, 1, 2, 5, 6, 1, 6, 6,\n",
       "       0, 2, 5, 0, 5, 6, 1, 0])"
      ]
     },
     "execution_count": 22,
     "metadata": {},
     "output_type": "execute_result"
    }
   ],
   "source": [
    "y_test"
   ]
  },
  {
   "cell_type": "code",
   "execution_count": 23,
   "metadata": {},
   "outputs": [
    {
     "data": {
      "text/plain": [
       "0.5985914235872922"
      ]
     },
     "execution_count": 23,
     "metadata": {},
     "output_type": "execute_result"
    }
   ],
   "source": [
    "mode.score(x_test,y_test)"
   ]
  },
  {
   "cell_type": "code",
   "execution_count": null,
   "metadata": {},
   "outputs": [],
   "source": []
  }
 ],
 "metadata": {
  "kernelspec": {
   "display_name": "Python 3",
   "language": "python",
   "name": "python3"
  },
  "language_info": {
   "codemirror_mode": {
    "name": "ipython",
    "version": 3
   },
   "file_extension": ".py",
   "mimetype": "text/x-python",
   "name": "python",
   "nbconvert_exporter": "python",
   "pygments_lexer": "ipython3",
   "version": "3.8.6"
  }
 },
 "nbformat": 4,
 "nbformat_minor": 4
}
